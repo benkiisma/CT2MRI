{
 "cells": [
  {
   "cell_type": "markdown",
   "id": "6b5a088b",
   "metadata": {},
   "source": [
    "# Pre-Operative Planning System for Neuromodulation Surgery for Spinal Cord Injury Rehabilitation"
   ]
  },
  {
   "cell_type": "markdown",
   "id": "ed891063",
   "metadata": {},
   "source": [
    "This project is about the automatic labeling for MRI to CT co-registration as part of the pre-operative computational pipeline for neuromodulation surgery for spinal cord injury rehabilitation.\n",
    "\n",
    "***Authors: Ismail Benkirane & Sergio Hernandez***  \n",
    "***Date: 14/12/2022***"
   ]
  },
  {
   "cell_type": "markdown",
   "id": "596fe4a3",
   "metadata": {},
   "source": [
    "</div>\n",
    "<div class=\"00 Task\" style='background-color:#faefe1; border-left: solid #darkblue 4px; border-radius: 4px; padding:0.7em;'>\n",
    "    <span style=\"color:black; font-size: 22px; font-weight: 600\">\n",
    "        Loading the needed functions\n",
    "    </span>\n",
    "</div>"
   ]
  },
  {
   "cell_type": "markdown",
   "id": "68e49091",
   "metadata": {},
   "source": [
    "All the needed function to run this notebook correctly are saved in a utils file. Please make sure that the file is located in the same folder as this main file. "
   ]
  },
  {
   "cell_type": "code",
   "execution_count": 65,
   "id": "10d38620",
   "metadata": {},
   "outputs": [],
   "source": [
    "execfile('utils.py')"
   ]
  },
  {
   "cell_type": "markdown",
   "id": "c47393b8",
   "metadata": {},
   "source": [
    "</div>\n",
    "<div class=\"00 Task\" style='background-color:#faefe1; border-left: solid #darkblue 4px; border-radius: 4px; padding:0.7em;'>\n",
    "    <span style=\"color:black; font-size: 22px; font-weight: 600\">\n",
    "        Aquiring Data\n",
    "    </span>\n",
    "</div>"
   ]
  },
  {
   "cell_type": "markdown",
   "id": "d06dcb81",
   "metadata": {},
   "source": [
    "Before loading the data, you have to make sure that all three files are RPI oriented. To check, you can run on the terminal : \n",
    "\n",
    "        sct_image -i 'img_path' -getorient\n",
    "        \n",
    "if the orientation is different, you can change the orientation of a file by running again on the terminal :\n",
    "\n",
    "        sct_image -i 'img_path' -setorient 'RPI'\n",
    "        \n",
    "Also, MRI images need to be upsampled at the same size as CT images. Once you have the sampling size of the CT image (pixdim1xpixdim2xpixdim3), you can run the following line on the terminal to upsample the MRI data :\n",
    "\n",
    "        sct_resample -i 'MRI_img_Path' -mm pixdim1xpicdim2xpixdim3"
   ]
  },
  {
   "cell_type": "code",
   "execution_count": 10,
   "id": "2254f132",
   "metadata": {},
   "outputs": [],
   "source": [
    "#Oriented images (RPI)\n",
    "disks_seg_path = \"/Users/ismail/switchdrive/PDS/folder/data/MRI_Dicom_t2_gre_sag_sergio_mat384_TR428_0.6x0.6_5min47_20221101132010_9_seg_Discs.nii.gz\"\n",
    "vert_seg_path_MRI = \"/Users/ismail/switchdrive/PDS/folder/data/MRI_Dicom_t2_gre_sag_sergio_mat384_TR428_0.6x0.6_5min47_20221101132010_9_seg_Vertebrae.nii.gz\"\n",
    "vert_seg_path_CT = \"/Users/ismail/switchdrive/PDS/folder/data/CT_Dicom_8.10_STIMO_20221101145337_302_seg_multi.nii.gz\""
   ]
  },
  {
   "cell_type": "markdown",
   "id": "2a19bbd7",
   "metadata": {},
   "source": [
    "</div>\n",
    "<div class=\"00 Task\" style='background-color:#faefe1; border-left: solid #darkblue 4px; border-radius: 4px; padding:0.7em;'>\n",
    "    <span style=\"color:black; font-size: 22px; font-weight: 600\">\n",
    "        MRI Processing\n",
    "    </span>\n",
    "</div>"
   ]
  },
  {
   "cell_type": "markdown",
   "id": "d3ddb16b",
   "metadata": {},
   "source": [
    "In this section, we will load the MRI image and the disks image. Using the disks information, we will segment the MRI image in order to separate the different vertebrae. In addition, we will compute the optimal volume for each vertebra."
   ]
  },
  {
   "cell_type": "markdown",
   "id": "0113be3a",
   "metadata": {},
   "source": [
    "### Loading the Vertebrae and Disk images\n",
    "Using the function `load_image_np_data()` developed in the utils file, we load the disks and vertebrae images acquired using MRI. It returns basically the image in a numpy format."
   ]
  },
  {
   "cell_type": "code",
   "execution_count": 11,
   "id": "ea96143e",
   "metadata": {},
   "outputs": [],
   "source": [
    "img_vertebrae = load_image_np_data(vert_seg_path_MRI)\n",
    "img_disks = load_image_np_data(disks_seg_path)"
   ]
  },
  {
   "cell_type": "markdown",
   "id": "68a416ff",
   "metadata": {},
   "source": [
    "### Processing "
   ]
  },
  {
   "cell_type": "markdown",
   "id": "f86c036c",
   "metadata": {},
   "source": [
    "Now, using the loaded disk image, we will segment the MRI vertebrae image and store the optimal volume and the label of each vertebra. The `MRI_image_treatment()` function is implemented the following way:\n",
    "- Separate the disks' data and group them into separate disks. This is done using `connected_components()` and `group_components()` functions that are defined in the utils file.\n",
    "- Computes the location of the disk's centroids. The corresponding volume will be stored in the `all_vol_MRI` variable. This is done using the `find_centroids()` function that is defined in the utils file.\n",
    "- Based on the disks separation, the function `vertebrae_seg()` will segment the MRI image into separate vertebrae. This function basically considers that there's a vertebra between two disks. So, by taking the maximum position of a disk, and the minimum position of the next one, we can \"cut\" the image in order to keep only one vertebra. This can be done for all vertebrae and lead to a segmented MRI image that will be stored in the `img_seg_MRI` variable. This function also label every vertebra. By considering that the one on the bottom of the image is the saccral vertebra, it goes upward and labels every one the vertebrae.\n",
    "- Finally, the function `find_labels()` is called and will go through the values of all pixels in the image, and keep only the unique values and store them in a list by ordering them from the biggest to the smallest."
   ]
  },
  {
   "cell_type": "code",
   "execution_count": 12,
   "id": "f4868e4d",
   "metadata": {},
   "outputs": [],
   "source": [
    "img_seg_MRI, all_vol_MRI, seg_labels_MRI = MRI_image_treatment(img_disks,img_vertebrae)  "
   ]
  },
  {
   "cell_type": "markdown",
   "id": "241328c3",
   "metadata": {},
   "source": [
    "### Visualization  "
   ]
  },
  {
   "cell_type": "markdown",
   "id": "da81c100",
   "metadata": {},
   "source": [
    "You can visualize the MRI images with the cell below :"
   ]
  },
  {
   "cell_type": "code",
   "execution_count": 13,
   "id": "f7f1035a",
   "metadata": {},
   "outputs": [
    {
     "name": "stdout",
     "output_type": "stream",
     "text": [
      "\n",
      " The vertebrae labels are:  [25 24 23 22 21 20 19 18 17 16 15 14]\n",
      "\n",
      " The corresponding volumes are:  [12, 13, 13, 13, 12, 13, 14, 14, 14, 13, 12, 12]\n",
      "\n",
      " Loaded disk segmentation image of shape :  (288, 768, 28)\n"
     ]
    },
    {
     "data": {
      "image/png": "[encoded data removed]",
      "text/plain": [
       "<Figure size 432x288 with 1 Axes>"
      ]
     },
     "metadata": {
      "needs_background": "light"
     },
     "output_type": "display_data"
    },
    {
     "name": "stdout",
     "output_type": "stream",
     "text": [
      "\n",
      " Loaded vertebrae image of shape :  (288, 768, 28)\n"
     ]
    },
    {
     "data": {
      "image/png": "[encoded data removed]",
      "text/plain": [
       "<Figure size 432x288 with 1 Axes>"
      ]
     },
     "metadata": {
      "needs_background": "light"
     },
     "output_type": "display_data"
    }
   ],
   "source": [
    "print(\"\\n The vertebrae labels are: \", seg_labels_MRI)\n",
    "print(\"\\n The corresponding volumes are: \", all_vol_MRI)\n",
    "\n",
    "print(\"\\n Loaded disk segmentation image of shape : \", img_disks.shape)\n",
    "plt.figure()\n",
    "plt.imshow(img_disks[:,:,round(np.mean(all_vol_MRI))])\n",
    "plt.show()\n",
    "print(\"\\n Loaded vertebrae image of shape : \", img_vertebrae.shape)\n",
    "plt.figure()\n",
    "plt.imshow(img_vertebrae[:,:,round(np.mean(all_vol_MRI))])\n",
    "plt.show()"
   ]
  },
  {
   "cell_type": "markdown",
   "id": "b8c1b121",
   "metadata": {},
   "source": [
    "With the cell below, you can change the variable `vert_nb` and visualize each vertebra at a time. You can give this variable the values stored in the `seg_label_MRI` variable which in this case are going from 25 to 14."
   ]
  },
  {
   "cell_type": "code",
   "execution_count": 102,
   "id": "79958349",
   "metadata": {},
   "outputs": [
    {
     "name": "stdout",
     "output_type": "stream",
     "text": [
      "Labeled vertebrae\n"
     ]
    },
    {
     "data": {
      "image/png": "[encoded data removed]",
      "text/plain": [
       "<Figure size 432x288 with 1 Axes>"
      ]
     },
     "metadata": {
      "needs_background": "light"
     },
     "output_type": "display_data"
    }
   ],
   "source": [
    "vert_nb = 16\n",
    "\n",
    "img_vert_MRI = np.copy(img_seg_MRI)\n",
    "img_vert_MRI[img_vert_MRI != vert_nb] = 0\n",
    "    \n",
    "print(\"Labeled vertebrae\")\n",
    "plt.figure()\n",
    "plt.imshow(img_vert_MRI[:,:,all_vol_MRI[int(np.where(seg_labels_MRI==vert_nb)[0])]])\n",
    "plt.show()"
   ]
  },
  {
   "cell_type": "markdown",
   "id": "8b769944",
   "metadata": {},
   "source": [
    "You can see on the image above that the segmentation isn't perfect. This is because of the method used for segmenting : Only using the disk data, we will have straight \"cuts\" in the image. However, vertebrae are often not straight, which is the reason why we have these results. In the scope of the study, this won't be an issue as we will be using only the upper part of each vertebra, which is perfectly accessible using this segmentation method."
   ]
  },
  {
   "cell_type": "markdown",
   "id": "66a15ce9",
   "metadata": {},
   "source": [
    "</div>\n",
    "<div class=\"00 Task\" style='background-color:#faefe1; border-left: solid #darkblue 4px; border-radius: 4px; padding:0.7em;'>\n",
    "    <span style=\"color:black; font-size: 22px; font-weight: 600\">\n",
    "        CT processing\n",
    "    </span>\n",
    "</div>"
   ]
  },
  {
   "cell_type": "markdown",
   "id": "9670d517",
   "metadata": {},
   "source": [
    "In this section, the vertebrae image is already segmented as it is coming from a CT scan. Thus, we will load and store the vertebrae labels and compute the optimal volume for each one of them."
   ]
  },
  {
   "cell_type": "markdown",
   "id": "acd320d4",
   "metadata": {},
   "source": [
    "### Loading the vertebrae segmentation image"
   ]
  },
  {
   "cell_type": "markdown",
   "id": "664a0486",
   "metadata": {},
   "source": [
    "Using the function `load_image_np_data()` developed in the utils file, we load the CT scans images. It returns basically the image in a numpy format."
   ]
  },
  {
   "cell_type": "code",
   "execution_count": 26,
   "id": "36153480",
   "metadata": {},
   "outputs": [],
   "source": [
    "img_seg_CT = load_image_np_data(os.path.normpath(vert_seg_path_CT))"
   ]
  },
  {
   "cell_type": "markdown",
   "id": "b0b799fc",
   "metadata": {},
   "source": [
    "### Processing"
   ]
  },
  {
   "cell_type": "markdown",
   "id": "dc3b3105",
   "metadata": {},
   "source": [
    "Using the loaded segmented CT image, we extract the labels for each vertebra and compute their optimal volume. The `CT_image_treatment()` function is implemented the following way:\n",
    "- Using the `find_label()` function, we compute and store the label of each vertebra\n",
    "- Using the `find centroids()` function, we call the `group_target_components()` function to group the values of each vertebra together, and then compute the centroids to extract its corresponding volume."
   ]
  },
  {
   "cell_type": "code",
   "execution_count": 27,
   "id": "bd6c1564",
   "metadata": {},
   "outputs": [],
   "source": [
    "seg_labels_CT, all_vol_CT = CT_image_treatment(img_seg_CT)"
   ]
  },
  {
   "cell_type": "markdown",
   "id": "52c3def1",
   "metadata": {},
   "source": [
    "### Visualization "
   ]
  },
  {
   "cell_type": "markdown",
   "id": "baa72ac2",
   "metadata": {},
   "source": [
    "You can visualize the CT image with the cell below :"
   ]
  },
  {
   "cell_type": "code",
   "execution_count": 28,
   "id": "003b7678",
   "metadata": {},
   "outputs": [
    {
     "name": "stdout",
     "output_type": "stream",
     "text": [
      "\n",
      " The vertebrae labels are:  [25 24 23 22 21 20 19 18 17 16 15 14]\n",
      "\n",
      " The corresponding volumes are:  [270, 261, 263, 264, 266, 268, 269, 271, 278, 281, 283, 285]\n",
      "\n",
      " Loaded vertebrae segmentation image of shape :  (512, 674, 512)\n"
     ]
    },
    {
     "data": {
      "image/png": "[encoded data removed]",
      "text/plain": [
       "<Figure size 432x288 with 1 Axes>"
      ]
     },
     "metadata": {
      "needs_background": "light"
     },
     "output_type": "display_data"
    }
   ],
   "source": [
    "print(\"\\n The vertebrae labels are: \", seg_labels_CT)\n",
    "print(\"\\n The corresponding volumes are: \", all_vol_CT)\n",
    "\n",
    "print(\"\\n Loaded vertebrae segmentation image of shape : \", img_seg_CT.shape)\n",
    "plt.figure()\n",
    "plt.imshow(img_seg_CT[:,:,round(np.mean(all_vol_CT))])\n",
    "plt.show()"
   ]
  },
  {
   "cell_type": "markdown",
   "id": "66a70d59",
   "metadata": {},
   "source": [
    "With the cell below, you can change the variable `vert_nb` and visualize each vertebra at a time. You can give this variable the values stored in the `seg_label_CT` variable which in this case are going from 25 to 14."
   ]
  },
  {
   "cell_type": "code",
   "execution_count": 103,
   "id": "ac0cc90c",
   "metadata": {},
   "outputs": [
    {
     "name": "stdout",
     "output_type": "stream",
     "text": [
      "Labeled vertebrae\n"
     ]
    },
    {
     "data": {
      "image/png": "[encoded data removed]",
      "text/plain": [
       "<Figure size 432x288 with 1 Axes>"
      ]
     },
     "metadata": {
      "needs_background": "light"
     },
     "output_type": "display_data"
    }
   ],
   "source": [
    "vert_nb = 16\n",
    "\n",
    "img_vert_CT = np.copy(img_seg_CT)\n",
    "img_vert_CT[img_vert_CT != vert_nb ] = 0\n",
    "\n",
    "print(\"Labeled vertebrae\")\n",
    "plt.figure()\n",
    "plt.imshow(img_vert_CT[:,:,all_vol_CT[int(np.where(seg_labels_CT==vert_nb)[0])]])\n",
    "plt.show()"
   ]
  },
  {
   "cell_type": "markdown",
   "id": "2436d7c6",
   "metadata": {},
   "source": [
    "</div>\n",
    "<div class=\"00 Task\" style='background-color:#faefe1; border-left: solid #darkblue 4px; border-radius: 4px; padding:0.7em;'>\n",
    "    <span style=\"color:black; font-size: 22px; font-weight: 600\">\n",
    "        Labels computation\n",
    "    </span>\n",
    "</div>"
   ]
  },
  {
   "cell_type": "markdown",
   "id": "ac634382",
   "metadata": {},
   "source": [
    "In this section, the vertebrae that will be holding the labels are set. This selection depends on the region of interest, this is why we left the vertebrae variable available for change. In the cell below, you can initialize the variable `target` in the following way:\n",
    "- `target = \"hemon\"` to use the vertebrae corresponding to the hemon study\n",
    "- `target = \"hemo\"` to use the vertebrae corresponding to the hemo study\n",
    "- `target = \"stimo\"` to use the vertebrae corresponding to the stimo study\n",
    "- `target = \"all\"` to use all the available vertebrae"
   ]
  },
  {
   "cell_type": "code",
   "execution_count": 66,
   "id": "2e93ab1d",
   "metadata": {},
   "outputs": [],
   "source": [
    "target = \"hemon\""
   ]
  },
  {
   "cell_type": "markdown",
   "id": "61a55cdd",
   "metadata": {},
   "source": [
    "This cell will simply initialize the variable `vertebrae` that will contain the label of each selected vertebra."
   ]
  },
  {
   "cell_type": "code",
   "execution_count": 67,
   "id": "340547ba",
   "metadata": {},
   "outputs": [],
   "source": [
    "vertebrae = []\n",
    "if target == \"hemon\":\n",
    "    vertebrae.append(\"L2\")\n",
    "    vertebrae.append(\"T12\")\n",
    "    vertebrae.append(\"T7\")\n",
    "elif target == \"hemo\":\n",
    "    vertebrae.append(\"L5\")\n",
    "    vertebrae.append(\"L1\")\n",
    "    vertebrae.append(\"T7\")\n",
    "elif target == \"stimo\":\n",
    "    vertebrae.append(\"L2\")\n",
    "    vertebrae.append(\"T10\")\n",
    "    vertebrae.append(\"T7\")\n",
    "elif target == \"all\":\n",
    "    print(\"all vertebrae have been chosen\")"
   ]
  },
  {
   "cell_type": "markdown",
   "id": "a6f035e8",
   "metadata": {},
   "source": [
    "In the next cell, a link is created between the real name of the vertebrae and their label stored in the label variables (`seg_labels_CT` & `seg_labels_MRI`). Here is a detailled explanation of the implementation of the function `label_selection` :\n",
    "- First, as you may know, MRI and CT images could show a different number of vertebrae depending on the acquisition. So, we have to take the fewest number of vertebrae between the two images to be able to do the coregistration as it makes no sense to coregister a vertebra with another that does not exist. \n",
    "- After that, a dictionnary is created with the real name of the vertebrae as keys and their equivalent in numbers as values. \n",
    "- Then, by going through the vertebrae stored in the variable `vertebrae`, we will select only the right values from the dictionnary. \n",
    "- Finally, we will store the labels in the variable `label`, we will store the corresponding volumes of the MRI and CT respectively in the variables `volume_MRI` and `volume_CT`."
   ]
  },
  {
   "cell_type": "code",
   "execution_count": 68,
   "id": "7f1da464",
   "metadata": {},
   "outputs": [
    {
     "name": "stdout",
     "output_type": "stream",
     "text": [
      "The vertebrae accessible for this patient are: ['S1', 'L5', 'L4', 'L3', 'L2', 'L1', 'T12', 'T11', 'T10', 'T9', 'T8', 'T7']\n",
      "The vertebrae used to position the label points are: ['L2', 'T12', 'T7']\n"
     ]
    }
   ],
   "source": [
    "label, volume_MRI, volume_CT = label_selection(seg_labels_MRI, seg_labels_CT, all_vol_MRI, all_vol_CT, vertebrae)"
   ]
  },
  {
   "cell_type": "markdown",
   "id": "66fa55f8",
   "metadata": {},
   "source": [
    "Then, we compute N different images for each type of image aquisition corresponding to the N vertebrae used to position the labels. Basically, the `img_label()` function takes the segmented image, and put to 0 all the pixels that do not form the vertebra of interest."
   ]
  },
  {
   "cell_type": "code",
   "execution_count": 69,
   "id": "9df6f6fb",
   "metadata": {},
   "outputs": [],
   "source": [
    "label_MRI_img = img_label(img_seg_MRI, label)\n",
    "label_CT_img = img_label(img_seg_CT, label)"
   ]
  },
  {
   "cell_type": "markdown",
   "id": "f8e6e709",
   "metadata": {},
   "source": [
    "### Visualization "
   ]
  },
  {
   "cell_type": "markdown",
   "id": "aeea8e52",
   "metadata": {},
   "source": [
    "With the cell below, you can change the variable `vert` and visualize the same vertebra with the two types of data acquisition (MRI and CT). You can give this variable the values going from 0 to `len(label)-1`. For example, the images below correspond to the vertebra T7."
   ]
  },
  {
   "cell_type": "code",
   "execution_count": 73,
   "id": "9d06374a",
   "metadata": {},
   "outputs": [
    {
     "name": "stdout",
     "output_type": "stream",
     "text": [
      "\n",
      " MRI image corresponding to vertebra:  T7\n"
     ]
    },
    {
     "data": {
      "image/png": "[encoded data removed]",
      "text/plain": [
       "<Figure size 432x288 with 1 Axes>"
      ]
     },
     "metadata": {
      "needs_background": "light"
     },
     "output_type": "display_data"
    },
    {
     "name": "stdout",
     "output_type": "stream",
     "text": [
      "\n",
      " CT image corresponding to vertebra:  T7\n"
     ]
    },
    {
     "data": {
      "image/png": "[encoded data removed]",
      "text/plain": [
       "<Figure size 432x288 with 1 Axes>"
      ]
     },
     "metadata": {
      "needs_background": "light"
     },
     "output_type": "display_data"
    }
   ],
   "source": [
    "vert = 0\n",
    "print(\"\\n MRI image corresponding to vertebra: \", vertebrae[vert])\n",
    "plt.figure()\n",
    "plt.imshow(label_MRI_img[vert][:,:,volume_MRI[vert]])\n",
    "plt.show()\n",
    "\n",
    "print(\"\\n CT image corresponding to vertebra: \", vertebrae[vert])\n",
    "plt.figure()\n",
    "plt.imshow(label_CT_img[vert][:,:,volume_CT[vert]])\n",
    "plt.show()"
   ]
  },
  {
   "cell_type": "markdown",
   "id": "274f6ab3",
   "metadata": {},
   "source": [
    "</div>\n",
    "<div class=\"00 Task\" style='background-color:#faefe1; border-left: solid #darkblue 4px; border-radius: 4px; padding:0.7em;'>\n",
    "    <span style=\"color:black; font-size: 22px; font-weight: 600\">\n",
    "        Preparing the output\n",
    "    </span>\n",
    "</div>"
   ]
  },
  {
   "cell_type": "markdown",
   "id": "2966d4a8",
   "metadata": {},
   "source": [
    "Here, using the images computed before, we will output 2 images with the same size as the input images, that will contain only few points that are non zero. These point are the label points"
   ]
  },
  {
   "cell_type": "code",
   "execution_count": 22,
   "id": "e9356dbb",
   "metadata": {},
   "outputs": [],
   "source": [
    "output_path = \"/Users/ismail/switchdrive/PDS/folder\""
   ]
  },
  {
   "cell_type": "markdown",
   "id": "d4f61f6f",
   "metadata": {},
   "source": [
    "Basically, the `final_image()` function puts all the pixels to 0, then put to 1 the pixel at the location of the label point to the vertebra's label. Then, the function `save_image_np_data()` saves the image as nifti file at output path location."
   ]
  },
  {
   "cell_type": "markdown",
   "id": "ed402719",
   "metadata": {},
   "source": [
    "#### Saving the MRI image"
   ]
  },
  {
   "cell_type": "code",
   "execution_count": 23,
   "id": "be1d1dd5",
   "metadata": {
    "scrolled": true
   },
   "outputs": [],
   "source": [
    "img_final_MRI = final_image(img_seg_MRI, label_MRI_img, volume_MRI, label)\n",
    "save_image_np_data(img_final_MRI, vert_seg_path_MRI, output_path, True)  "
   ]
  },
  {
   "cell_type": "markdown",
   "id": "c7ad6b61",
   "metadata": {},
   "source": [
    "#### Saving the CT image"
   ]
  },
  {
   "cell_type": "code",
   "execution_count": 24,
   "id": "000a2a58",
   "metadata": {},
   "outputs": [],
   "source": [
    "img_final_CT = final_image(img_seg_CT, label_CT_img, volume_CT, label)\n",
    "save_image_np_data(img_final_CT, vert_seg_path_CT, output_path, False)"
   ]
  },
  {
   "cell_type": "markdown",
   "id": "53c2ebf9",
   "metadata": {},
   "source": [
    "### Visualization "
   ]
  },
  {
   "cell_type": "markdown",
   "id": "9e59461d",
   "metadata": {},
   "source": [
    "Here's an example for the positionning of the label point with one vertebra. We chose to position it in the center of the upper curvature of the vertebrae as it is a point that do not change a lot between MRI and CT images. Furthermore, we tried with other positions, such as the upper right/left corner but no other positions gave better results than the one we are using."
   ]
  },
  {
   "cell_type": "code",
   "execution_count": 109,
   "id": "990b152e",
   "metadata": {},
   "outputs": [
    {
     "name": "stdout",
     "output_type": "stream",
     "text": [
      "Vertebra L2 with the label point positionned (in red)\n"
     ]
    },
    {
     "data": {
      "image/png": "[encoded data removed]",
      "text/plain": [
       "<Figure size 432x288 with 1 Axes>"
      ]
     },
     "metadata": {
      "needs_background": "light"
     },
     "output_type": "display_data"
    }
   ],
   "source": [
    "vert = 0\n",
    "ref = ref_coord(label_MRI_img[vert],volume_MRI[vert])\n",
    "\n",
    "print(\"Vertebra \"+str(vertebrae[vert])+\" with the label point positionned (in red)\")\n",
    "plt.figure()\n",
    "plt.imshow(label_MRI_img[vert][:,:,volume_MRI[vert]])\n",
    "plt.plot(ref[0], ref[1], \"or\", markersize=2)\n",
    "plt.show()"
   ]
  },
  {
   "cell_type": "markdown",
   "id": "0e605302",
   "metadata": {},
   "source": [
    "### Verification "
   ]
  },
  {
   "cell_type": "markdown",
   "id": "3bbaae29",
   "metadata": {},
   "source": [
    "This is a quick validation step to see if there are actually only N non-zero points, with N the number of vertebrae chosen to hold the label points. "
   ]
  },
  {
   "cell_type": "code",
   "execution_count": 25,
   "id": "0e2a4878",
   "metadata": {},
   "outputs": [
    {
     "name": "stdout",
     "output_type": "stream",
     "text": [
      "MRI image\n",
      "(array([ 73,  79,  86, 100, 126, 150, 151, 166, 173, 188, 200]), array([115, 146,  86, 176, 204, 232,  61, 257, 280, 304, 324]), array([117, 121, 119, 128, 130, 132, 124, 135, 137, 140, 144]))\n",
      "CT image\n",
      "(array([ 73,  73,  82,  96,  98, 123, 143, 152, 179, 190, 204]), array([108, 139, 166,  79, 191, 218, 243, 265, 309,  64, 286]), array([256, 256, 257, 260, 259, 260, 259, 261, 266, 270, 264]))\n"
     ]
    }
   ],
   "source": [
    "print(\"MRI image\")\n",
    "img_test = load_image_np_data('/Users/ismail/switchdrive/pds/test/MRI_labels.nii.gz')\n",
    "print(np.where(img_test > 0))\n",
    "\n",
    "print(\"CT image\")\n",
    "img_test = load_image_np_data('/Users/ismail/switchdrive/pds/test/CT_labels.nii.gz')\n",
    "print(np.where(img_test > 0))"
   ]
  },
  {
   "cell_type": "markdown",
   "id": "c38e2282",
   "metadata": {},
   "source": [
    "</div>\n",
    "<div class=\"00 Task\" style='background-color:#faefe1; border-left: solid #darkblue 4px; border-radius: 4px; padding:0.7em;'>\n",
    "    <span style=\"color:black; font-size: 22px; font-weight: 600\">\n",
    "        **********************************************************************************************************\n",
    "    </span>\n",
    "</div>"
   ]
  },
  {
   "cell_type": "markdown",
   "id": "5ab0a6ae",
   "metadata": {},
   "source": [
    "### Terminal - Using the script"
   ]
  },
  {
   "cell_type": "markdown",
   "id": "8a0d9e45",
   "metadata": {},
   "source": [
    "This notebook is also available as a script (main.py). In order to run the script directly from the terminal, you can run the following line while in the same folder as the python file : \n",
    "\n",
    "    python3 main.py -idisks /Users/ismail/switchdrive/PDS/test/files3/MRI_Dicom_t2_gre_sag_sergio_mat384_TR428_0.6x0.6_5min47_20221101132010_9_seg_Discs.nii.gz -imri /Users/ismail/switchdrive/PDS/test/files3/MRI_Dicom_t2_gre_sag_sergio_mat384_TR428_0.6x0.6_5min47_20221101132010_9_seg_Vertebrae.nii.gz -ict /Users/ismail/switchdrive/PDS/test/files3/postop/CT_Post_Op_Dicom_7.7_NEURORESTORE_20221122102834_303_seg_multi.nii.gz -o /Users/ismail/switchdrive/PDS/test/ -v 'hemon'\n",
    "    \n",
    "This is built according to the following structure: \n",
    "\n",
    "    main.py -idisks <input_disk_img> -imri <input_MRI_img> -ict <input_CT_img> -o <output_path> -v <vertebrae>\n",
    "    \n",
    "With:\n",
    "\n",
    "    - <input_disk_img>: the path to the MRI disk image\n",
    "    - <input_MRI_img> : the path to the MRI vertebrae image\n",
    "    - <input_CT_img>  : the path to the CT vertebrae image\n",
    "    - <output_path>   : the output path for the two output files\n",
    "    - <vertebrae>   : Desired labelled vertebrae (Separated by a blank space) : 'X' 'Y' or directly the name of the study such as 'hemo', 'hemon', 'stimo'\n",
    "    "
   ]
  },
  {
   "cell_type": "markdown",
   "id": "ee17521c",
   "metadata": {},
   "source": [
    "### Terminal - Coregistration + Fsleyes"
   ]
  },
  {
   "cell_type": "markdown",
   "id": "2b8df6b7",
   "metadata": {},
   "source": [
    "Once the two output path computed, directly from the terminal, in the same folder as these two files, we can run the following lines to do the coregistration and visualize the result :\n",
    "\n",
    "    chmod u+x 02_co_registration_function_determination.sh\n",
    "\n",
    "    ./02_co_registration_function_determination.sh /Users/ismail/switchdrive/PDS/test/files3/postop/CT_Post_Op_Dicom_7.7_NEURORESTORE_20221122102834_303.nii.gz /Users/ismail/switchdrive/PDS/test/files3/postop/CT_Post_Op_Dicom_7.7_NEURORESTORE_20221122102834_303_seg_bin.nii.gz /Users/ismail/switchdrive/PDS/test/Separate/S1/CT_labels.nii.gz /Users/ismail/switchdrive/PDS/test/files3/MRI_Dicom_t2_gre_sag_sergio_mat384_TR428_0.6x0.6_5min47_20221101132010_9.nii.gz /Users/ismail/switchdrive/PDS/test/files3/MRI_Dicom_t2_gre_sag_sergio_mat384_TR428_0.6x0.6_5min47_20221101132010_9_seg_Vertebrae.nii.gz /Users/ismail/switchdrive/PDS/test/Separate/S1/MRI_labels.nii.gz /Users/ismail/switchdrive/PDS/test/coreg\n",
    "\n",
    "    chmod u+x 03_applying_co_registration_function.sh\n",
    "\n",
    "    ./03_applying_co_registration_function.sh /Users/ismail/switchdrive/PDS/test/files3/postop/CT_Post_Op_Dicom_7.7_NEURORESTORE_20221122102834_303_elec_seg.nii.gz /Users/ismail/switchdrive/PDS/test/files3/MRI_Dicom_t2_gre_sag_sergio_mat384_TR428_0.6x0.6_5min47_20221101132010_9.nii.gz /Users/ismail/switchdrive/PDS/test/coreg/CT2MRI.nii.gz /Users/ismail/switchdrive/PDS/test/coreg/P03_CT_preop_seg_bin_reg.nii.gz\n",
    "    \n",
    "    chmod u+x 04_run_cleaning_seg_post_co_registration.sh\n",
    "    \n",
    "    ./04_run_cleaning_seg_post_co_registration.sh /Users/ismail/switchdrive/PDS/test/coreg/P03_CT_preop_seg_bin_reg.nii.gz /Users/ismail/switchdrive/PDS/test/coreg/P03_CT_preop_seg_bin_reg_cleaned.nii.gz \n",
    "    \n",
    "        ./03_applying_co_registration_function.sh /Users/ismail/switchdrive/PDS/test/files3/postop/RieserCTpreOp_7.7_NEURORESTORE_20221102131239_301_seg_multi.nii.gz /Users/ismail/switchdrive/PDS/test/files3/MRI_Dicom_t2_gre_sag_sergio_mat384_TR428_0.6x0.6_5min47_20221101132010_9.nii.gz /Users/ismail/switchdrive/PDS/test/coreg/CT2MRI.nii.gz /Users/ismail/switchdrive/PDS/test/coreg/P03_CT_preop_seg_bin_reg_multi.nii.gz\n",
    "    \n",
    "    chmod u+x 05_run_cleaning_seg_non_binary.sh \n",
    "    \n",
    "    ./05_run_cleaning_seg_non_binary.sh  /Users/ismail/switchdrive/PDS/test/coreg/P03_CT_preop_seg_bin_reg_multi.nii.gz.nii.gz /Users/ismail/switchdrive/PDS/test/coreg\n",
    "    \n",
    "    fsleyes /Users/ismail/switchdrive/PDS/test/coreg/P03_CT_preop_seg_bin_reg.nii.gz /Users/ismail/switchdrive/PDS/test/files3/MRI_Dicom_t2_gre_sag_sergio_mat384_TR428_0.6x0.6_5min47_20221101132010_9_seg_Vertebrae.nii.gz"
   ]
  }
 ],
 "metadata": {
  "kernelspec": {
   "display_name": "pds",
   "language": "python",
   "name": "pds"
  },
  "language_info": {
   "codemirror_mode": {
    "name": "ipython",
    "version": 3
   },
   "file_extension": ".py",
   "mimetype": "text/x-python",
   "name": "python",
   "nbconvert_exporter": "python",
   "pygments_lexer": "ipython3",
   "version": "3.8.13"
  }
 },
 "nbformat": 4,
 "nbformat_minor": 5
}
